{
 "cells": [
  {
   "cell_type": "markdown",
   "metadata": {},
   "source": [
    "### Note\n",
    "* Instructions have been included for each segment. You do not have to follow them exactly, but they are included to help you think through the steps."
   ]
  },
  {
   "cell_type": "code",
   "execution_count": 261,
   "metadata": {},
   "outputs": [
    {
     "data": {
      "text/html": [
       "<div>\n",
       "<style scoped>\n",
       "    .dataframe tbody tr th:only-of-type {\n",
       "        vertical-align: middle;\n",
       "    }\n",
       "\n",
       "    .dataframe tbody tr th {\n",
       "        vertical-align: top;\n",
       "    }\n",
       "\n",
       "    .dataframe thead th {\n",
       "        text-align: right;\n",
       "    }\n",
       "</style>\n",
       "<table border=\"1\" class=\"dataframe\">\n",
       "  <thead>\n",
       "    <tr style=\"text-align: right;\">\n",
       "      <th></th>\n",
       "      <th>Purchase ID</th>\n",
       "      <th>SN</th>\n",
       "      <th>Age</th>\n",
       "      <th>Gender</th>\n",
       "      <th>Item ID</th>\n",
       "      <th>Item Name</th>\n",
       "      <th>Price</th>\n",
       "    </tr>\n",
       "  </thead>\n",
       "  <tbody>\n",
       "    <tr>\n",
       "      <th>0</th>\n",
       "      <td>0</td>\n",
       "      <td>Lisim78</td>\n",
       "      <td>20</td>\n",
       "      <td>Male</td>\n",
       "      <td>108</td>\n",
       "      <td>Extraction, Quickblade Of Trembling Hands</td>\n",
       "      <td>3.53</td>\n",
       "    </tr>\n",
       "    <tr>\n",
       "      <th>1</th>\n",
       "      <td>1</td>\n",
       "      <td>Lisovynya38</td>\n",
       "      <td>40</td>\n",
       "      <td>Male</td>\n",
       "      <td>143</td>\n",
       "      <td>Frenzied Scimitar</td>\n",
       "      <td>1.56</td>\n",
       "    </tr>\n",
       "    <tr>\n",
       "      <th>2</th>\n",
       "      <td>2</td>\n",
       "      <td>Ithergue48</td>\n",
       "      <td>24</td>\n",
       "      <td>Male</td>\n",
       "      <td>92</td>\n",
       "      <td>Final Critic</td>\n",
       "      <td>4.88</td>\n",
       "    </tr>\n",
       "    <tr>\n",
       "      <th>3</th>\n",
       "      <td>3</td>\n",
       "      <td>Chamassasya86</td>\n",
       "      <td>24</td>\n",
       "      <td>Male</td>\n",
       "      <td>100</td>\n",
       "      <td>Blindscythe</td>\n",
       "      <td>3.27</td>\n",
       "    </tr>\n",
       "    <tr>\n",
       "      <th>4</th>\n",
       "      <td>4</td>\n",
       "      <td>Iskosia90</td>\n",
       "      <td>23</td>\n",
       "      <td>Male</td>\n",
       "      <td>131</td>\n",
       "      <td>Fury</td>\n",
       "      <td>1.44</td>\n",
       "    </tr>\n",
       "  </tbody>\n",
       "</table>\n",
       "</div>"
      ],
      "text/plain": [
       "   Purchase ID             SN  Age Gender  Item ID  \\\n",
       "0            0        Lisim78   20   Male      108   \n",
       "1            1    Lisovynya38   40   Male      143   \n",
       "2            2     Ithergue48   24   Male       92   \n",
       "3            3  Chamassasya86   24   Male      100   \n",
       "4            4      Iskosia90   23   Male      131   \n",
       "\n",
       "                                   Item Name  Price  \n",
       "0  Extraction, Quickblade Of Trembling Hands   3.53  \n",
       "1                          Frenzied Scimitar   1.56  \n",
       "2                               Final Critic   4.88  \n",
       "3                                Blindscythe   3.27  \n",
       "4                                       Fury   1.44  "
      ]
     },
     "execution_count": 261,
     "metadata": {},
     "output_type": "execute_result"
    }
   ],
   "source": [
    "# Dependencies and Setup\n",
    "import pandas as pd\n",
    "import os\n",
    "import numpy as np\n",
    "\n",
    "# File to Load (Remember to Change These)\n",
    "file_to_load = \"Resources/purchase_data.csv\"\n",
    "\n",
    "# Read Purchasing File and store into Pandas data frame\n",
    "purchase_data = pd.read_csv(file_to_load)\n",
    "purchase_data.head()"
   ]
  },
  {
   "cell_type": "markdown",
   "metadata": {},
   "source": [
    "## Player Count"
   ]
  },
  {
   "cell_type": "markdown",
   "metadata": {},
   "source": [
    "* Display the total number of players\n"
   ]
  },
  {
   "cell_type": "code",
   "execution_count": 262,
   "metadata": {},
   "outputs": [
    {
     "data": {
      "text/plain": [
       "576"
      ]
     },
     "execution_count": 262,
     "metadata": {},
     "output_type": "execute_result"
    }
   ],
   "source": [
    "total_players = purchase_data['SN'].nunique()\n",
    "total_players"
   ]
  },
  {
   "cell_type": "markdown",
   "metadata": {},
   "source": [
    "## Purchasing Analysis (Total)"
   ]
  },
  {
   "cell_type": "markdown",
   "metadata": {},
   "source": [
    "* Run basic calculations to obtain number of unique items, average price, etc.\n",
    "\n",
    "\n",
    "* Create a summary data frame to hold the results\n",
    "\n",
    "\n",
    "* Optional: give the displayed data cleaner formatting\n",
    "\n",
    "\n",
    "* Display the summary data frame\n"
   ]
  },
  {
   "cell_type": "code",
   "execution_count": 263,
   "metadata": {
    "scrolled": true
   },
   "outputs": [
    {
     "data": {
      "text/html": [
       "<style  type=\"text/css\" >\n",
       "</style><table id=\"T_30bffa5c_611c_11eb_8da9_f49634213cc9\" ><thead>    <tr>        <th class=\"blank level0\" ></th>        <th class=\"col_heading level0 col0\" >unique_item</th>        <th class=\"col_heading level0 col1\" >average_price</th>        <th class=\"col_heading level0 col2\" >number_purchases</th>        <th class=\"col_heading level0 col3\" >total_revenue</th>    </tr></thead><tbody>\n",
       "                <tr>\n",
       "                        <th id=\"T_30bffa5c_611c_11eb_8da9_f49634213cc9level0_row0\" class=\"row_heading level0 row0\" >0</th>\n",
       "                        <td id=\"T_30bffa5c_611c_11eb_8da9_f49634213cc9row0_col0\" class=\"data row0 col0\" >179</td>\n",
       "                        <td id=\"T_30bffa5c_611c_11eb_8da9_f49634213cc9row0_col1\" class=\"data row0 col1\" >$3.05</td>\n",
       "                        <td id=\"T_30bffa5c_611c_11eb_8da9_f49634213cc9row0_col2\" class=\"data row0 col2\" >780</td>\n",
       "                        <td id=\"T_30bffa5c_611c_11eb_8da9_f49634213cc9row0_col3\" class=\"data row0 col3\" >$2,379.77</td>\n",
       "            </tr>\n",
       "    </tbody></table>"
      ],
      "text/plain": [
       "<pandas.io.formats.style.Styler at 0x2004740afa0>"
      ]
     },
     "execution_count": 263,
     "metadata": {},
     "output_type": "execute_result"
    }
   ],
   "source": [
    "unique_item = purchase_data['Item Name'].nunique()\n",
    "average_price = purchase_data['Price'].mean()\n",
    "number_purchases = purchase_data['Purchase ID'].count()\n",
    "total_revenue = purchase_data['Price'].sum()\n",
    "summary_data = pd.DataFrame({\n",
    "    \"unique_item\": [unique_item],\n",
    "    'average_price': [average_price],\n",
    "    'number_purchases': [number_purchases],\n",
    "    'total_revenue': [total_revenue]\n",
    "})\n",
    "summary_data.style.format({'average_price':\"${:,.2f}\",\n",
    "                         'total_revenue': '${:,.2f}'})"
   ]
  },
  {
   "cell_type": "markdown",
   "metadata": {},
   "source": [
    "## Gender Demographics"
   ]
  },
  {
   "cell_type": "markdown",
   "metadata": {},
   "source": [
    "* Percentage and Count of Male Players\n",
    "\n",
    "\n",
    "* Percentage and Count of Female Players\n",
    "\n",
    "\n",
    "* Percentage and Count of Other / Non-Disclosed\n",
    "\n",
    "\n"
   ]
  },
  {
   "cell_type": "code",
   "execution_count": 264,
   "metadata": {},
   "outputs": [
    {
     "data": {
      "text/html": [
       "<style  type=\"text/css\" >\n",
       "</style><table id=\"T_31b86cef_611c_11eb_ab42_f49634213cc9\" ><thead>    <tr>        <th class=\"blank level0\" ></th>        <th class=\"col_heading level0 col0\" >Total Count</th>        <th class=\"col_heading level0 col1\" >Percentage of Players</th>    </tr>    <tr>        <th class=\"index_name level0\" >Gender</th>        <th class=\"blank\" ></th>        <th class=\"blank\" ></th>    </tr></thead><tbody>\n",
       "                <tr>\n",
       "                        <th id=\"T_31b86cef_611c_11eb_ab42_f49634213cc9level0_row0\" class=\"row_heading level0 row0\" >Male</th>\n",
       "                        <td id=\"T_31b86cef_611c_11eb_ab42_f49634213cc9row0_col0\" class=\"data row0 col0\" >484</td>\n",
       "                        <td id=\"T_31b86cef_611c_11eb_ab42_f49634213cc9row0_col1\" class=\"data row0 col1\" >84.03%</td>\n",
       "            </tr>\n",
       "            <tr>\n",
       "                        <th id=\"T_31b86cef_611c_11eb_ab42_f49634213cc9level0_row1\" class=\"row_heading level0 row1\" >Female</th>\n",
       "                        <td id=\"T_31b86cef_611c_11eb_ab42_f49634213cc9row1_col0\" class=\"data row1 col0\" >81</td>\n",
       "                        <td id=\"T_31b86cef_611c_11eb_ab42_f49634213cc9row1_col1\" class=\"data row1 col1\" >14.06%</td>\n",
       "            </tr>\n",
       "            <tr>\n",
       "                        <th id=\"T_31b86cef_611c_11eb_ab42_f49634213cc9level0_row2\" class=\"row_heading level0 row2\" >Other / Non-Disclosed</th>\n",
       "                        <td id=\"T_31b86cef_611c_11eb_ab42_f49634213cc9row2_col0\" class=\"data row2 col0\" >11</td>\n",
       "                        <td id=\"T_31b86cef_611c_11eb_ab42_f49634213cc9row2_col1\" class=\"data row2 col1\" >1.91%</td>\n",
       "            </tr>\n",
       "    </tbody></table>"
      ],
      "text/plain": [
       "<pandas.io.formats.style.Styler at 0x200476621f0>"
      ]
     },
     "execution_count": 264,
     "metadata": {},
     "output_type": "execute_result"
    }
   ],
   "source": [
    "gender_count = purchase_data.groupby(\"Gender\")\n",
    "unique_members = pd.DataFrame(gender_count[\"SN\"].nunique())\n",
    "percentage_of_players = pd.DataFrame((unique_members/total_players)*100)\n",
    "merged_values = unique_members.merge(percentage_of_players, on=\"Gender\")\n",
    "merged_values = merged_values.rename(\n",
    "    columns={\"SN_x\": \"Total Count\", \"SN_y\": 'Percentage of Players'})\n",
    "merged_values = merged_values.sort_values('Total Count', ascending=False)\n",
    "merged_values = merged_values.style.format({'Percentage of Players':\"{:,.2f}%\"\n",
    "                         })\n",
    "merged_values\n"
   ]
  },
  {
   "cell_type": "markdown",
   "metadata": {},
   "source": [
    "\n",
    "## Purchasing Analysis (Gender)"
   ]
  },
  {
   "cell_type": "markdown",
   "metadata": {},
   "source": [
    "* Run basic calculations to obtain purchase count, avg. purchase price, avg. purchase total per person etc. by gender\n",
    "\n",
    "\n",
    "\n",
    "\n",
    "* Create a summary data frame to hold the results\n",
    "\n",
    "\n",
    "* Optional: give the displayed data cleaner formatting\n",
    "\n",
    "\n",
    "* Display the summary data frame"
   ]
  },
  {
   "cell_type": "code",
   "execution_count": 260,
   "metadata": {},
   "outputs": [
    {
     "data": {
      "text/html": [
       "<style  type=\"text/css\" >\n",
       "</style><table id=\"T_085e8d4a_611c_11eb_90fb_f49634213cc9\" ><thead>    <tr>        <th class=\"blank level0\" ></th>        <th class=\"col_heading level0 col0\" >Purchase Count</th>        <th class=\"col_heading level0 col1\" >Average Purchase Price</th>        <th class=\"col_heading level0 col2\" >Total Purchase Value</th>        <th class=\"col_heading level0 col3\" >Avg Total Purchase per Person</th>    </tr>    <tr>        <th class=\"index_name level0\" >Gender</th>        <th class=\"blank\" ></th>        <th class=\"blank\" ></th>        <th class=\"blank\" ></th>        <th class=\"blank\" ></th>    </tr></thead><tbody>\n",
       "                <tr>\n",
       "                        <th id=\"T_085e8d4a_611c_11eb_90fb_f49634213cc9level0_row0\" class=\"row_heading level0 row0\" >Female</th>\n",
       "                        <td id=\"T_085e8d4a_611c_11eb_90fb_f49634213cc9row0_col0\" class=\"data row0 col0\" >113</td>\n",
       "                        <td id=\"T_085e8d4a_611c_11eb_90fb_f49634213cc9row0_col1\" class=\"data row0 col1\" >$3.20</td>\n",
       "                        <td id=\"T_085e8d4a_611c_11eb_90fb_f49634213cc9row0_col2\" class=\"data row0 col2\" >$361.94</td>\n",
       "                        <td id=\"T_085e8d4a_611c_11eb_90fb_f49634213cc9row0_col3\" class=\"data row0 col3\" >$4.47</td>\n",
       "            </tr>\n",
       "            <tr>\n",
       "                        <th id=\"T_085e8d4a_611c_11eb_90fb_f49634213cc9level0_row1\" class=\"row_heading level0 row1\" >Male</th>\n",
       "                        <td id=\"T_085e8d4a_611c_11eb_90fb_f49634213cc9row1_col0\" class=\"data row1 col0\" >652</td>\n",
       "                        <td id=\"T_085e8d4a_611c_11eb_90fb_f49634213cc9row1_col1\" class=\"data row1 col1\" >$3.02</td>\n",
       "                        <td id=\"T_085e8d4a_611c_11eb_90fb_f49634213cc9row1_col2\" class=\"data row1 col2\" >$1,967.64</td>\n",
       "                        <td id=\"T_085e8d4a_611c_11eb_90fb_f49634213cc9row1_col3\" class=\"data row1 col3\" >$4.07</td>\n",
       "            </tr>\n",
       "            <tr>\n",
       "                        <th id=\"T_085e8d4a_611c_11eb_90fb_f49634213cc9level0_row2\" class=\"row_heading level0 row2\" >Other / Non-Disclosed</th>\n",
       "                        <td id=\"T_085e8d4a_611c_11eb_90fb_f49634213cc9row2_col0\" class=\"data row2 col0\" >15</td>\n",
       "                        <td id=\"T_085e8d4a_611c_11eb_90fb_f49634213cc9row2_col1\" class=\"data row2 col1\" >$3.35</td>\n",
       "                        <td id=\"T_085e8d4a_611c_11eb_90fb_f49634213cc9row2_col2\" class=\"data row2 col2\" >$50.19</td>\n",
       "                        <td id=\"T_085e8d4a_611c_11eb_90fb_f49634213cc9row2_col3\" class=\"data row2 col3\" >$4.56</td>\n",
       "            </tr>\n",
       "    </tbody></table>"
      ],
      "text/plain": [
       "<pandas.io.formats.style.Styler at 0x20047662b80>"
      ]
     },
     "execution_count": 260,
     "metadata": {},
     "output_type": "execute_result"
    }
   ],
   "source": [
    "purchase_count = gender_count[\"Purchase ID\"].nunique()\n",
    "average_purchase_price = gender_count[\"Price\"].mean()\n",
    "total_purchase_value = gender_count[\"Price\"].sum()\n",
    "average_total_p_per_person = total_purchase_value / unique_members['SN']\n",
    "table = pd.DataFrame({'Purchase Count':purchase_count, 'Average Purchase Price':average_purchase_price, 'Total Purchase Value':total_purchase_value, 'Avg Total Purchase per Person':average_total_p_per_person})\n",
    "table = table.style.format({'Average Purchase Price':\"${:,.2f}\", 'Avg Total Purchase per Person':\"${:,.2f}\", 'Total Purchase Value':\"${:,.2f}\"\n",
    "                                   })\n",
    "table"
   ]
  },
  {
   "cell_type": "markdown",
   "metadata": {},
   "source": [
    "## Age Demographics"
   ]
  },
  {
   "cell_type": "markdown",
   "metadata": {},
   "source": [
    "* Establish bins for ages\n",
    "\n",
    "\n",
    "* Categorize the existing players using the age bins. Hint: use pd.cut()\n",
    "\n",
    "\n",
    "* Calculate the numbers and percentages by age group\n",
    "\n",
    "\n",
    "* Create a summary data frame to hold the results\n",
    "\n",
    "\n",
    "* Optional: round the percentage column to two decimal points\n",
    "\n",
    "\n",
    "* Display Age Demographics Table\n"
   ]
  },
  {
   "cell_type": "code",
   "execution_count": 218,
   "metadata": {},
   "outputs": [
    {
     "data": {
      "text/html": [
       "<style  type=\"text/css\" >\n",
       "</style><table id=\"T_0b23fc99_6057_11eb_8e2a_f49634213cc9\" ><thead>    <tr>        <th class=\"blank level0\" ></th>        <th class=\"col_heading level0 col0\" >Total Count</th>        <th class=\"col_heading level0 col1\" >Percentage of Players</th>    </tr>    <tr>        <th class=\"index_name level0\" >Age Group</th>        <th class=\"blank\" ></th>        <th class=\"blank\" ></th>    </tr></thead><tbody>\n",
       "                <tr>\n",
       "                        <th id=\"T_0b23fc99_6057_11eb_8e2a_f49634213cc9level0_row0\" class=\"row_heading level0 row0\" ><10</th>\n",
       "                        <td id=\"T_0b23fc99_6057_11eb_8e2a_f49634213cc9row0_col0\" class=\"data row0 col0\" >17</td>\n",
       "                        <td id=\"T_0b23fc99_6057_11eb_8e2a_f49634213cc9row0_col1\" class=\"data row0 col1\" >2.95%</td>\n",
       "            </tr>\n",
       "            <tr>\n",
       "                        <th id=\"T_0b23fc99_6057_11eb_8e2a_f49634213cc9level0_row1\" class=\"row_heading level0 row1\" >10-14</th>\n",
       "                        <td id=\"T_0b23fc99_6057_11eb_8e2a_f49634213cc9row1_col0\" class=\"data row1 col0\" >22</td>\n",
       "                        <td id=\"T_0b23fc99_6057_11eb_8e2a_f49634213cc9row1_col1\" class=\"data row1 col1\" >3.82%</td>\n",
       "            </tr>\n",
       "            <tr>\n",
       "                        <th id=\"T_0b23fc99_6057_11eb_8e2a_f49634213cc9level0_row2\" class=\"row_heading level0 row2\" >15-19</th>\n",
       "                        <td id=\"T_0b23fc99_6057_11eb_8e2a_f49634213cc9row2_col0\" class=\"data row2 col0\" >107</td>\n",
       "                        <td id=\"T_0b23fc99_6057_11eb_8e2a_f49634213cc9row2_col1\" class=\"data row2 col1\" >18.58%</td>\n",
       "            </tr>\n",
       "            <tr>\n",
       "                        <th id=\"T_0b23fc99_6057_11eb_8e2a_f49634213cc9level0_row3\" class=\"row_heading level0 row3\" >20-24</th>\n",
       "                        <td id=\"T_0b23fc99_6057_11eb_8e2a_f49634213cc9row3_col0\" class=\"data row3 col0\" >258</td>\n",
       "                        <td id=\"T_0b23fc99_6057_11eb_8e2a_f49634213cc9row3_col1\" class=\"data row3 col1\" >44.79%</td>\n",
       "            </tr>\n",
       "            <tr>\n",
       "                        <th id=\"T_0b23fc99_6057_11eb_8e2a_f49634213cc9level0_row4\" class=\"row_heading level0 row4\" >25-29</th>\n",
       "                        <td id=\"T_0b23fc99_6057_11eb_8e2a_f49634213cc9row4_col0\" class=\"data row4 col0\" >77</td>\n",
       "                        <td id=\"T_0b23fc99_6057_11eb_8e2a_f49634213cc9row4_col1\" class=\"data row4 col1\" >13.37%</td>\n",
       "            </tr>\n",
       "            <tr>\n",
       "                        <th id=\"T_0b23fc99_6057_11eb_8e2a_f49634213cc9level0_row5\" class=\"row_heading level0 row5\" >30-34</th>\n",
       "                        <td id=\"T_0b23fc99_6057_11eb_8e2a_f49634213cc9row5_col0\" class=\"data row5 col0\" >52</td>\n",
       "                        <td id=\"T_0b23fc99_6057_11eb_8e2a_f49634213cc9row5_col1\" class=\"data row5 col1\" >9.03%</td>\n",
       "            </tr>\n",
       "            <tr>\n",
       "                        <th id=\"T_0b23fc99_6057_11eb_8e2a_f49634213cc9level0_row6\" class=\"row_heading level0 row6\" >35-39</th>\n",
       "                        <td id=\"T_0b23fc99_6057_11eb_8e2a_f49634213cc9row6_col0\" class=\"data row6 col0\" >31</td>\n",
       "                        <td id=\"T_0b23fc99_6057_11eb_8e2a_f49634213cc9row6_col1\" class=\"data row6 col1\" >5.38%</td>\n",
       "            </tr>\n",
       "            <tr>\n",
       "                        <th id=\"T_0b23fc99_6057_11eb_8e2a_f49634213cc9level0_row7\" class=\"row_heading level0 row7\" >+40</th>\n",
       "                        <td id=\"T_0b23fc99_6057_11eb_8e2a_f49634213cc9row7_col0\" class=\"data row7 col0\" >12</td>\n",
       "                        <td id=\"T_0b23fc99_6057_11eb_8e2a_f49634213cc9row7_col1\" class=\"data row7 col1\" >2.08%</td>\n",
       "            </tr>\n",
       "    </tbody></table>"
      ],
      "text/plain": [
       "<pandas.io.formats.style.Styler at 0x20046034b80>"
      ]
     },
     "execution_count": 218,
     "metadata": {},
     "output_type": "execute_result"
    }
   ],
   "source": [
    "bins = [0, 9.9, 14, 19, 24, 29, 34, 39, 100]\n",
    "group_names = [\"<10\", \"10-14\", \"15-19\", \"20-24\", \"25-29\", \"30-34\", \"35-39\", \"+40\"]\n",
    "purchase_data[\"Age Group\"] = pd.cut(purchase_data[\"Age\"], bins, labels=group_names, include_lowest=True)\n",
    "age_count = purchase_data.groupby(\"Age Group\")\n",
    "unique_members2 = pd.DataFrame(age_count[\"SN\"].nunique())\n",
    "percentage_of_players2 = pd.DataFrame((unique_members2/total_players)*100)\n",
    "merged_values2 = unique_members2.merge(percentage_of_players2, on=\"Age Group\")\n",
    "merged_values2 = merged_values2.rename(\n",
    "    columns={\"SN_x\": \"Total Count\", \"SN_y\": 'Percentage of Players'})\n",
    "merged_values2 = merged_values2.style.format({'Percentage of Players':\"{:,.2f}%\"\n",
    "                         })\n",
    "merged_values2\n"
   ]
  },
  {
   "cell_type": "markdown",
   "metadata": {},
   "source": [
    "## Purchasing Analysis (Age)"
   ]
  },
  {
   "cell_type": "markdown",
   "metadata": {},
   "source": [
    "* Bin the purchase_data data frame by age\n",
    "\n",
    "\n",
    "* Run basic calculations to obtain purchase count, avg. purchase price, avg. purchase total per person etc. in the table below\n",
    "\n",
    "\n",
    "* Create a summary data frame to hold the results\n",
    "\n",
    "\n",
    "* Optional: give the displayed data cleaner formatting\n",
    "\n",
    "\n",
    "* Display the summary data frame"
   ]
  },
  {
   "cell_type": "code",
   "execution_count": 270,
   "metadata": {},
   "outputs": [
    {
     "data": {
      "text/html": [
       "<style  type=\"text/css\" >\n",
       "</style><table id=\"T_f3486600_611d_11eb_ade9_f49634213cc9\" ><thead>    <tr>        <th class=\"blank level0\" ></th>        <th class=\"col_heading level0 col0\" >Purchase Count</th>        <th class=\"col_heading level0 col1\" >Average Purchase Price</th>        <th class=\"col_heading level0 col2\" >Total Purchase Value</th>        <th class=\"col_heading level0 col3\" >Avg Total Purchase per Person</th>    </tr>    <tr>        <th class=\"index_name level0\" >Age Group</th>        <th class=\"blank\" ></th>        <th class=\"blank\" ></th>        <th class=\"blank\" ></th>        <th class=\"blank\" ></th>    </tr></thead><tbody>\n",
       "                <tr>\n",
       "                        <th id=\"T_f3486600_611d_11eb_ade9_f49634213cc9level0_row0\" class=\"row_heading level0 row0\" ><10</th>\n",
       "                        <td id=\"T_f3486600_611d_11eb_ade9_f49634213cc9row0_col0\" class=\"data row0 col0\" >23</td>\n",
       "                        <td id=\"T_f3486600_611d_11eb_ade9_f49634213cc9row0_col1\" class=\"data row0 col1\" >$3.35</td>\n",
       "                        <td id=\"T_f3486600_611d_11eb_ade9_f49634213cc9row0_col2\" class=\"data row0 col2\" >$77.13</td>\n",
       "                        <td id=\"T_f3486600_611d_11eb_ade9_f49634213cc9row0_col3\" class=\"data row0 col3\" >$4.54</td>\n",
       "            </tr>\n",
       "            <tr>\n",
       "                        <th id=\"T_f3486600_611d_11eb_ade9_f49634213cc9level0_row1\" class=\"row_heading level0 row1\" >10-14</th>\n",
       "                        <td id=\"T_f3486600_611d_11eb_ade9_f49634213cc9row1_col0\" class=\"data row1 col0\" >28</td>\n",
       "                        <td id=\"T_f3486600_611d_11eb_ade9_f49634213cc9row1_col1\" class=\"data row1 col1\" >$2.96</td>\n",
       "                        <td id=\"T_f3486600_611d_11eb_ade9_f49634213cc9row1_col2\" class=\"data row1 col2\" >$82.78</td>\n",
       "                        <td id=\"T_f3486600_611d_11eb_ade9_f49634213cc9row1_col3\" class=\"data row1 col3\" >$3.76</td>\n",
       "            </tr>\n",
       "            <tr>\n",
       "                        <th id=\"T_f3486600_611d_11eb_ade9_f49634213cc9level0_row2\" class=\"row_heading level0 row2\" >15-19</th>\n",
       "                        <td id=\"T_f3486600_611d_11eb_ade9_f49634213cc9row2_col0\" class=\"data row2 col0\" >136</td>\n",
       "                        <td id=\"T_f3486600_611d_11eb_ade9_f49634213cc9row2_col1\" class=\"data row2 col1\" >$3.04</td>\n",
       "                        <td id=\"T_f3486600_611d_11eb_ade9_f49634213cc9row2_col2\" class=\"data row2 col2\" >$412.89</td>\n",
       "                        <td id=\"T_f3486600_611d_11eb_ade9_f49634213cc9row2_col3\" class=\"data row2 col3\" >$3.86</td>\n",
       "            </tr>\n",
       "            <tr>\n",
       "                        <th id=\"T_f3486600_611d_11eb_ade9_f49634213cc9level0_row3\" class=\"row_heading level0 row3\" >20-24</th>\n",
       "                        <td id=\"T_f3486600_611d_11eb_ade9_f49634213cc9row3_col0\" class=\"data row3 col0\" >365</td>\n",
       "                        <td id=\"T_f3486600_611d_11eb_ade9_f49634213cc9row3_col1\" class=\"data row3 col1\" >$3.05</td>\n",
       "                        <td id=\"T_f3486600_611d_11eb_ade9_f49634213cc9row3_col2\" class=\"data row3 col2\" >$1,114.06</td>\n",
       "                        <td id=\"T_f3486600_611d_11eb_ade9_f49634213cc9row3_col3\" class=\"data row3 col3\" >$4.32</td>\n",
       "            </tr>\n",
       "            <tr>\n",
       "                        <th id=\"T_f3486600_611d_11eb_ade9_f49634213cc9level0_row4\" class=\"row_heading level0 row4\" >25-29</th>\n",
       "                        <td id=\"T_f3486600_611d_11eb_ade9_f49634213cc9row4_col0\" class=\"data row4 col0\" >101</td>\n",
       "                        <td id=\"T_f3486600_611d_11eb_ade9_f49634213cc9row4_col1\" class=\"data row4 col1\" >$2.90</td>\n",
       "                        <td id=\"T_f3486600_611d_11eb_ade9_f49634213cc9row4_col2\" class=\"data row4 col2\" >$293.00</td>\n",
       "                        <td id=\"T_f3486600_611d_11eb_ade9_f49634213cc9row4_col3\" class=\"data row4 col3\" >$3.81</td>\n",
       "            </tr>\n",
       "            <tr>\n",
       "                        <th id=\"T_f3486600_611d_11eb_ade9_f49634213cc9level0_row5\" class=\"row_heading level0 row5\" >30-34</th>\n",
       "                        <td id=\"T_f3486600_611d_11eb_ade9_f49634213cc9row5_col0\" class=\"data row5 col0\" >73</td>\n",
       "                        <td id=\"T_f3486600_611d_11eb_ade9_f49634213cc9row5_col1\" class=\"data row5 col1\" >$2.93</td>\n",
       "                        <td id=\"T_f3486600_611d_11eb_ade9_f49634213cc9row5_col2\" class=\"data row5 col2\" >$214.00</td>\n",
       "                        <td id=\"T_f3486600_611d_11eb_ade9_f49634213cc9row5_col3\" class=\"data row5 col3\" >$4.12</td>\n",
       "            </tr>\n",
       "            <tr>\n",
       "                        <th id=\"T_f3486600_611d_11eb_ade9_f49634213cc9level0_row6\" class=\"row_heading level0 row6\" >35-39</th>\n",
       "                        <td id=\"T_f3486600_611d_11eb_ade9_f49634213cc9row6_col0\" class=\"data row6 col0\" >41</td>\n",
       "                        <td id=\"T_f3486600_611d_11eb_ade9_f49634213cc9row6_col1\" class=\"data row6 col1\" >$3.60</td>\n",
       "                        <td id=\"T_f3486600_611d_11eb_ade9_f49634213cc9row6_col2\" class=\"data row6 col2\" >$147.67</td>\n",
       "                        <td id=\"T_f3486600_611d_11eb_ade9_f49634213cc9row6_col3\" class=\"data row6 col3\" >$4.76</td>\n",
       "            </tr>\n",
       "            <tr>\n",
       "                        <th id=\"T_f3486600_611d_11eb_ade9_f49634213cc9level0_row7\" class=\"row_heading level0 row7\" >+40</th>\n",
       "                        <td id=\"T_f3486600_611d_11eb_ade9_f49634213cc9row7_col0\" class=\"data row7 col0\" >13</td>\n",
       "                        <td id=\"T_f3486600_611d_11eb_ade9_f49634213cc9row7_col1\" class=\"data row7 col1\" >$2.94</td>\n",
       "                        <td id=\"T_f3486600_611d_11eb_ade9_f49634213cc9row7_col2\" class=\"data row7 col2\" >$38.24</td>\n",
       "                        <td id=\"T_f3486600_611d_11eb_ade9_f49634213cc9row7_col3\" class=\"data row7 col3\" >$3.19</td>\n",
       "            </tr>\n",
       "    </tbody></table>"
      ],
      "text/plain": [
       "<pandas.io.formats.style.Styler at 0x200475b77c0>"
      ]
     },
     "execution_count": 270,
     "metadata": {},
     "output_type": "execute_result"
    }
   ],
   "source": [
    "purchase_count = age_count[\"Purchase ID\"].nunique()\n",
    "average_purchase_price = age_count[\"Price\"].mean()\n",
    "total_purchase_value = age_count[\"Price\"].sum()\n",
    "average_total_p_per_person = total_purchase_value / unique_members2['SN']\n",
    "table2 = pd.DataFrame({'Purchase Count':purchase_count, 'Average Purchase Price':average_purchase_price, 'Total Purchase Value':total_purchase_value, 'Avg Total Purchase per Person':average_total_p_per_person})\n",
    "table2 = table2.style.format({'Average Purchase Price':\"${:,.2f}\", 'Avg Total Purchase per Person':\"${:,.2f}\", 'Total Purchase Value':\"${:,.2f}\"\n",
    "                                   })\n",
    "table2"
   ]
  },
  {
   "cell_type": "markdown",
   "metadata": {},
   "source": [
    "## Top Spenders"
   ]
  },
  {
   "cell_type": "markdown",
   "metadata": {},
   "source": [
    "* Run basic calculations to obtain the results in the table below\n",
    "\n",
    "\n",
    "* Create a summary data frame to hold the results\n",
    "\n",
    "\n",
    "* Sort the total purchase value column in descending order\n",
    "\n",
    "\n",
    "* Optional: give the displayed data cleaner formatting\n",
    "\n",
    "\n",
    "* Display a preview of the summary data frame\n",
    "\n"
   ]
  },
  {
   "cell_type": "code",
   "execution_count": 292,
   "metadata": {},
   "outputs": [
    {
     "data": {
      "text/html": [
       "<style  type=\"text/css\" >\n",
       "</style><table id=\"T_7f921012_6120_11eb_b2a8_f49634213cc9\" ><thead>    <tr>        <th class=\"blank level0\" ></th>        <th class=\"col_heading level0 col0\" >Purchase Count</th>        <th class=\"col_heading level0 col1\" >Average Purchase Price</th>        <th class=\"col_heading level0 col2\" >Total Purchase Value</th>    </tr>    <tr>        <th class=\"index_name level0\" >SN</th>        <th class=\"blank\" ></th>        <th class=\"blank\" ></th>        <th class=\"blank\" ></th>    </tr></thead><tbody>\n",
       "                <tr>\n",
       "                        <th id=\"T_7f921012_6120_11eb_b2a8_f49634213cc9level0_row0\" class=\"row_heading level0 row0\" >Lisosia93</th>\n",
       "                        <td id=\"T_7f921012_6120_11eb_b2a8_f49634213cc9row0_col0\" class=\"data row0 col0\" >5</td>\n",
       "                        <td id=\"T_7f921012_6120_11eb_b2a8_f49634213cc9row0_col1\" class=\"data row0 col1\" >$3.79</td>\n",
       "                        <td id=\"T_7f921012_6120_11eb_b2a8_f49634213cc9row0_col2\" class=\"data row0 col2\" >$18.96</td>\n",
       "            </tr>\n",
       "            <tr>\n",
       "                        <th id=\"T_7f921012_6120_11eb_b2a8_f49634213cc9level0_row1\" class=\"row_heading level0 row1\" >Iral74</th>\n",
       "                        <td id=\"T_7f921012_6120_11eb_b2a8_f49634213cc9row1_col0\" class=\"data row1 col0\" >4</td>\n",
       "                        <td id=\"T_7f921012_6120_11eb_b2a8_f49634213cc9row1_col1\" class=\"data row1 col1\" >$3.40</td>\n",
       "                        <td id=\"T_7f921012_6120_11eb_b2a8_f49634213cc9row1_col2\" class=\"data row1 col2\" >$13.62</td>\n",
       "            </tr>\n",
       "            <tr>\n",
       "                        <th id=\"T_7f921012_6120_11eb_b2a8_f49634213cc9level0_row2\" class=\"row_heading level0 row2\" >Idastidru52</th>\n",
       "                        <td id=\"T_7f921012_6120_11eb_b2a8_f49634213cc9row2_col0\" class=\"data row2 col0\" >4</td>\n",
       "                        <td id=\"T_7f921012_6120_11eb_b2a8_f49634213cc9row2_col1\" class=\"data row2 col1\" >$3.86</td>\n",
       "                        <td id=\"T_7f921012_6120_11eb_b2a8_f49634213cc9row2_col2\" class=\"data row2 col2\" >$15.45</td>\n",
       "            </tr>\n",
       "            <tr>\n",
       "                        <th id=\"T_7f921012_6120_11eb_b2a8_f49634213cc9level0_row3\" class=\"row_heading level0 row3\" >Asur53</th>\n",
       "                        <td id=\"T_7f921012_6120_11eb_b2a8_f49634213cc9row3_col0\" class=\"data row3 col0\" >3</td>\n",
       "                        <td id=\"T_7f921012_6120_11eb_b2a8_f49634213cc9row3_col1\" class=\"data row3 col1\" >$2.48</td>\n",
       "                        <td id=\"T_7f921012_6120_11eb_b2a8_f49634213cc9row3_col2\" class=\"data row3 col2\" >$7.44</td>\n",
       "            </tr>\n",
       "            <tr>\n",
       "                        <th id=\"T_7f921012_6120_11eb_b2a8_f49634213cc9level0_row4\" class=\"row_heading level0 row4\" >Inguron55</th>\n",
       "                        <td id=\"T_7f921012_6120_11eb_b2a8_f49634213cc9row4_col0\" class=\"data row4 col0\" >3</td>\n",
       "                        <td id=\"T_7f921012_6120_11eb_b2a8_f49634213cc9row4_col1\" class=\"data row4 col1\" >$3.70</td>\n",
       "                        <td id=\"T_7f921012_6120_11eb_b2a8_f49634213cc9row4_col2\" class=\"data row4 col2\" >$11.11</td>\n",
       "            </tr>\n",
       "    </tbody></table>"
      ],
      "text/plain": [
       "<pandas.io.formats.style.Styler at 0x200475b7f10>"
      ]
     },
     "execution_count": 292,
     "metadata": {},
     "output_type": "execute_result"
    }
   ],
   "source": [
    "top_spenders = purchase_data.groupby(\"SN\")\n",
    "purchase_count = top_spenders[\"Purchase ID\"].nunique()\n",
    "average_purchase_price = top_spenders[\"Price\"].mean()\n",
    "total_purchase_value = top_spenders[\"Price\"].sum()\n",
    "table3 = pd.DataFrame({'Purchase Count':purchase_count, 'Average Purchase Price':average_purchase_price, 'Total Purchase Value':total_purchase_value})\n",
    "table3 = table3.sort_values('Purchase Count', ascending=False)\n",
    "table3 = table3.head(5)\n",
    "table3 = table3.style.format({'Average Purchase Price':\"${:,.2f}\", 'Total Purchase Value':\"${:,.2f}\"\n",
    "                                   })\n",
    "table3"
   ]
  },
  {
   "cell_type": "markdown",
   "metadata": {},
   "source": [
    "## Most Popular Items"
   ]
  },
  {
   "cell_type": "markdown",
   "metadata": {},
   "source": [
    "* Retrieve the Item ID, Item Name, and Item Price columns\n",
    "\n",
    "\n",
    "* Group by Item ID and Item Name. Perform calculations to obtain purchase count, average item price, and total purchase value\n",
    "\n",
    "\n",
    "* Create a summary data frame to hold the results\n",
    "\n",
    "\n",
    "* Sort the purchase count column in descending order\n",
    "\n",
    "\n",
    "* Optional: give the displayed data cleaner formatting\n",
    "\n",
    "\n",
    "* Display a preview of the summary data frame\n",
    "\n"
   ]
  },
  {
   "cell_type": "code",
   "execution_count": 305,
   "metadata": {},
   "outputs": [
    {
     "data": {
      "text/html": [
       "<style  type=\"text/css\" >\n",
       "</style><table id=\"T_e91efc2a_6122_11eb_bb7d_f49634213cc9\" ><thead>    <tr>        <th class=\"blank level0\" ></th>        <th class=\"col_heading level0 col0\" >Item Name</th>        <th class=\"col_heading level0 col1\" >Purchase Count</th>        <th class=\"col_heading level0 col2\" >Item Price</th>        <th class=\"col_heading level0 col3\" >Total Purchase Value</th>    </tr>    <tr>        <th class=\"index_name level0\" >Item ID</th>        <th class=\"blank\" ></th>        <th class=\"blank\" ></th>        <th class=\"blank\" ></th>        <th class=\"blank\" ></th>    </tr></thead><tbody>\n",
       "                <tr>\n",
       "                        <th id=\"T_e91efc2a_6122_11eb_bb7d_f49634213cc9level0_row0\" class=\"row_heading level0 row0\" >92</th>\n",
       "                        <td id=\"T_e91efc2a_6122_11eb_bb7d_f49634213cc9row0_col0\" class=\"data row0 col0\" >['Final Critic']</td>\n",
       "                        <td id=\"T_e91efc2a_6122_11eb_bb7d_f49634213cc9row0_col1\" class=\"data row0 col1\" >13</td>\n",
       "                        <td id=\"T_e91efc2a_6122_11eb_bb7d_f49634213cc9row0_col2\" class=\"data row0 col2\" >$4.61</td>\n",
       "                        <td id=\"T_e91efc2a_6122_11eb_bb7d_f49634213cc9row0_col3\" class=\"data row0 col3\" >$59.99</td>\n",
       "            </tr>\n",
       "            <tr>\n",
       "                        <th id=\"T_e91efc2a_6122_11eb_bb7d_f49634213cc9level0_row1\" class=\"row_heading level0 row1\" >178</th>\n",
       "                        <td id=\"T_e91efc2a_6122_11eb_bb7d_f49634213cc9row1_col0\" class=\"data row1 col0\" >['Oathbreaker, Last Hope of the Breaking Storm']</td>\n",
       "                        <td id=\"T_e91efc2a_6122_11eb_bb7d_f49634213cc9row1_col1\" class=\"data row1 col1\" >12</td>\n",
       "                        <td id=\"T_e91efc2a_6122_11eb_bb7d_f49634213cc9row1_col2\" class=\"data row1 col2\" >$4.23</td>\n",
       "                        <td id=\"T_e91efc2a_6122_11eb_bb7d_f49634213cc9row1_col3\" class=\"data row1 col3\" >$50.76</td>\n",
       "            </tr>\n",
       "            <tr>\n",
       "                        <th id=\"T_e91efc2a_6122_11eb_bb7d_f49634213cc9level0_row2\" class=\"row_heading level0 row2\" >145</th>\n",
       "                        <td id=\"T_e91efc2a_6122_11eb_bb7d_f49634213cc9row2_col0\" class=\"data row2 col0\" >['Fiery Glass Crusader']</td>\n",
       "                        <td id=\"T_e91efc2a_6122_11eb_bb7d_f49634213cc9row2_col1\" class=\"data row2 col1\" >9</td>\n",
       "                        <td id=\"T_e91efc2a_6122_11eb_bb7d_f49634213cc9row2_col2\" class=\"data row2 col2\" >$4.58</td>\n",
       "                        <td id=\"T_e91efc2a_6122_11eb_bb7d_f49634213cc9row2_col3\" class=\"data row2 col3\" >$41.22</td>\n",
       "            </tr>\n",
       "            <tr>\n",
       "                        <th id=\"T_e91efc2a_6122_11eb_bb7d_f49634213cc9level0_row3\" class=\"row_heading level0 row3\" >132</th>\n",
       "                        <td id=\"T_e91efc2a_6122_11eb_bb7d_f49634213cc9row3_col0\" class=\"data row3 col0\" >['Persuasion']</td>\n",
       "                        <td id=\"T_e91efc2a_6122_11eb_bb7d_f49634213cc9row3_col1\" class=\"data row3 col1\" >9</td>\n",
       "                        <td id=\"T_e91efc2a_6122_11eb_bb7d_f49634213cc9row3_col2\" class=\"data row3 col2\" >$3.22</td>\n",
       "                        <td id=\"T_e91efc2a_6122_11eb_bb7d_f49634213cc9row3_col3\" class=\"data row3 col3\" >$28.99</td>\n",
       "            </tr>\n",
       "            <tr>\n",
       "                        <th id=\"T_e91efc2a_6122_11eb_bb7d_f49634213cc9level0_row4\" class=\"row_heading level0 row4\" >108</th>\n",
       "                        <td id=\"T_e91efc2a_6122_11eb_bb7d_f49634213cc9row4_col0\" class=\"data row4 col0\" >['Extraction, Quickblade Of Trembling Hands']</td>\n",
       "                        <td id=\"T_e91efc2a_6122_11eb_bb7d_f49634213cc9row4_col1\" class=\"data row4 col1\" >9</td>\n",
       "                        <td id=\"T_e91efc2a_6122_11eb_bb7d_f49634213cc9row4_col2\" class=\"data row4 col2\" >$3.53</td>\n",
       "                        <td id=\"T_e91efc2a_6122_11eb_bb7d_f49634213cc9row4_col3\" class=\"data row4 col3\" >$31.77</td>\n",
       "            </tr>\n",
       "    </tbody></table>"
      ],
      "text/plain": [
       "<pandas.io.formats.style.Styler at 0x20047618ca0>"
      ]
     },
     "execution_count": 305,
     "metadata": {},
     "output_type": "execute_result"
    }
   ],
   "source": [
    "top_items = purchase_data.groupby(\"Item ID\")\n",
    "item_name = top_items[\"Item Name\"].unique()\n",
    "purchase_count = top_items[\"Purchase ID\"].nunique()\n",
    "average_purchase_price = top_items[\"Price\"].mean()\n",
    "total_purchase_value = top_items[\"Price\"].sum()\n",
    "table3 = pd.DataFrame({'Item Name':item_name, 'Purchase Count':purchase_count, \"Item Price\":average_purchase_price,'Total Purchase Value': total_purchase_value})\n",
    "table3 = table3.sort_values('Purchase Count', ascending=False)\n",
    "table3 = table3.head(5)\n",
    "table3 = table3.style.format({\"Item Price\":\"${:,.2f}\", 'Total Purchase Value':\"${:,.2f}\"\n",
    "                                   })\n",
    "table3"
   ]
  },
  {
   "cell_type": "markdown",
   "metadata": {},
   "source": [
    "## Most Profitable Items"
   ]
  },
  {
   "cell_type": "markdown",
   "metadata": {},
   "source": [
    "* Sort the above table by total purchase value in descending order\n",
    "\n",
    "\n",
    "* Optional: give the displayed data cleaner formatting\n",
    "\n",
    "\n",
    "* Display a preview of the data frame\n",
    "\n"
   ]
  },
  {
   "cell_type": "code",
   "execution_count": 306,
   "metadata": {
    "scrolled": true
   },
   "outputs": [
    {
     "data": {
      "text/html": [
       "<style  type=\"text/css\" >\n",
       "</style><table id=\"T_4353467c_6123_11eb_bd30_f49634213cc9\" ><thead>    <tr>        <th class=\"blank level0\" ></th>        <th class=\"col_heading level0 col0\" >Item Name</th>        <th class=\"col_heading level0 col1\" >Purchase Count</th>        <th class=\"col_heading level0 col2\" >Item Price</th>        <th class=\"col_heading level0 col3\" >Total Purchase Value</th>    </tr>    <tr>        <th class=\"index_name level0\" >Item ID</th>        <th class=\"blank\" ></th>        <th class=\"blank\" ></th>        <th class=\"blank\" ></th>        <th class=\"blank\" ></th>    </tr></thead><tbody>\n",
       "                <tr>\n",
       "                        <th id=\"T_4353467c_6123_11eb_bd30_f49634213cc9level0_row0\" class=\"row_heading level0 row0\" >92</th>\n",
       "                        <td id=\"T_4353467c_6123_11eb_bd30_f49634213cc9row0_col0\" class=\"data row0 col0\" >['Final Critic']</td>\n",
       "                        <td id=\"T_4353467c_6123_11eb_bd30_f49634213cc9row0_col1\" class=\"data row0 col1\" >13</td>\n",
       "                        <td id=\"T_4353467c_6123_11eb_bd30_f49634213cc9row0_col2\" class=\"data row0 col2\" >$4.61</td>\n",
       "                        <td id=\"T_4353467c_6123_11eb_bd30_f49634213cc9row0_col3\" class=\"data row0 col3\" >$59.99</td>\n",
       "            </tr>\n",
       "            <tr>\n",
       "                        <th id=\"T_4353467c_6123_11eb_bd30_f49634213cc9level0_row1\" class=\"row_heading level0 row1\" >178</th>\n",
       "                        <td id=\"T_4353467c_6123_11eb_bd30_f49634213cc9row1_col0\" class=\"data row1 col0\" >['Oathbreaker, Last Hope of the Breaking Storm']</td>\n",
       "                        <td id=\"T_4353467c_6123_11eb_bd30_f49634213cc9row1_col1\" class=\"data row1 col1\" >12</td>\n",
       "                        <td id=\"T_4353467c_6123_11eb_bd30_f49634213cc9row1_col2\" class=\"data row1 col2\" >$4.23</td>\n",
       "                        <td id=\"T_4353467c_6123_11eb_bd30_f49634213cc9row1_col3\" class=\"data row1 col3\" >$50.76</td>\n",
       "            </tr>\n",
       "            <tr>\n",
       "                        <th id=\"T_4353467c_6123_11eb_bd30_f49634213cc9level0_row2\" class=\"row_heading level0 row2\" >82</th>\n",
       "                        <td id=\"T_4353467c_6123_11eb_bd30_f49634213cc9row2_col0\" class=\"data row2 col0\" >['Nirvana']</td>\n",
       "                        <td id=\"T_4353467c_6123_11eb_bd30_f49634213cc9row2_col1\" class=\"data row2 col1\" >9</td>\n",
       "                        <td id=\"T_4353467c_6123_11eb_bd30_f49634213cc9row2_col2\" class=\"data row2 col2\" >$4.90</td>\n",
       "                        <td id=\"T_4353467c_6123_11eb_bd30_f49634213cc9row2_col3\" class=\"data row2 col3\" >$44.10</td>\n",
       "            </tr>\n",
       "            <tr>\n",
       "                        <th id=\"T_4353467c_6123_11eb_bd30_f49634213cc9level0_row3\" class=\"row_heading level0 row3\" >145</th>\n",
       "                        <td id=\"T_4353467c_6123_11eb_bd30_f49634213cc9row3_col0\" class=\"data row3 col0\" >['Fiery Glass Crusader']</td>\n",
       "                        <td id=\"T_4353467c_6123_11eb_bd30_f49634213cc9row3_col1\" class=\"data row3 col1\" >9</td>\n",
       "                        <td id=\"T_4353467c_6123_11eb_bd30_f49634213cc9row3_col2\" class=\"data row3 col2\" >$4.58</td>\n",
       "                        <td id=\"T_4353467c_6123_11eb_bd30_f49634213cc9row3_col3\" class=\"data row3 col3\" >$41.22</td>\n",
       "            </tr>\n",
       "            <tr>\n",
       "                        <th id=\"T_4353467c_6123_11eb_bd30_f49634213cc9level0_row4\" class=\"row_heading level0 row4\" >103</th>\n",
       "                        <td id=\"T_4353467c_6123_11eb_bd30_f49634213cc9row4_col0\" class=\"data row4 col0\" >['Singed Scalpel']</td>\n",
       "                        <td id=\"T_4353467c_6123_11eb_bd30_f49634213cc9row4_col1\" class=\"data row4 col1\" >8</td>\n",
       "                        <td id=\"T_4353467c_6123_11eb_bd30_f49634213cc9row4_col2\" class=\"data row4 col2\" >$4.35</td>\n",
       "                        <td id=\"T_4353467c_6123_11eb_bd30_f49634213cc9row4_col3\" class=\"data row4 col3\" >$34.80</td>\n",
       "            </tr>\n",
       "    </tbody></table>"
      ],
      "text/plain": [
       "<pandas.io.formats.style.Styler at 0x2004899b4c0>"
      ]
     },
     "execution_count": 306,
     "metadata": {},
     "output_type": "execute_result"
    }
   ],
   "source": [
    "top_items = purchase_data.groupby(\"Item ID\")\n",
    "item_name = top_items[\"Item Name\"].unique()\n",
    "purchase_count = top_items[\"Purchase ID\"].nunique()\n",
    "average_purchase_price = top_items[\"Price\"].mean()\n",
    "total_purchase_value = top_items[\"Price\"].sum()\n",
    "table3 = pd.DataFrame({'Item Name':item_name, 'Purchase Count':purchase_count, \"Item Price\":average_purchase_price,'Total Purchase Value': total_purchase_value})\n",
    "table3 = table3.sort_values('Total Purchase Value', ascending=False)\n",
    "table3 = table3.head(5)\n",
    "table3 = table3.style.format({\"Item Price\":\"${:,.2f}\", 'Total Purchase Value':\"${:,.2f}\"\n",
    "                                   })\n",
    "table3"
   ]
  },
  {
   "cell_type": "code",
   "execution_count": null,
   "metadata": {},
   "outputs": [],
   "source": []
  }
 ],
 "metadata": {
  "anaconda-cloud": {},
  "kernel_info": {
   "name": "python3"
  },
  "kernelspec": {
   "display_name": "Python 3",
   "language": "python",
   "name": "python3"
  },
  "language_info": {
   "codemirror_mode": {
    "name": "ipython",
    "version": 3
   },
   "file_extension": ".py",
   "mimetype": "text/x-python",
   "name": "python",
   "nbconvert_exporter": "python",
   "pygments_lexer": "ipython3",
   "version": "3.8.3"
  },
  "latex_envs": {
   "LaTeX_envs_menu_present": true,
   "autoclose": false,
   "autocomplete": true,
   "bibliofile": "biblio.bib",
   "cite_by": "apalike",
   "current_citInitial": 1,
   "eqLabelWithNumbers": true,
   "eqNumInitial": 1,
   "hotkeys": {
    "equation": "Ctrl-E",
    "itemize": "Ctrl-I"
   },
   "labels_anchors": false,
   "latex_user_defs": false,
   "report_style_numbering": false,
   "user_envs_cfg": false
  },
  "nteract": {
   "version": "0.2.0"
  }
 },
 "nbformat": 4,
 "nbformat_minor": 2
}
